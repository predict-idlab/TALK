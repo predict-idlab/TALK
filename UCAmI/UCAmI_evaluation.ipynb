{
 "cells": [
  {
   "cell_type": "markdown",
   "metadata": {
    "collapsed": true,
    "pycharm": {
     "name": "#%% md\n"
    }
   },
   "source": [
    "# UCAmI evaluation notebook"
   ]
  },
  {
   "cell_type": "code",
   "execution_count": 1,
   "outputs": [],
   "source": [
    "from sklearn.metrics import accuracy_score\n",
    "from rdflib_hdt import HDTStore\n",
    "from rdflib import URIRef, Literal\n",
    "import pandas as pd\n",
    "from ink.base.connectors import AbstractConnector\n",
    "from tqdm import tqdm\n",
    "\n",
    "import seaborn as sns\n",
    "import matplotlib.pyplot as plt\n",
    "\n",
    "from sklearn.metrics import confusion_matrix\n",
    "import numpy as np\n",
    "from sklearn.metrics import classification_report"
   ],
   "metadata": {
    "collapsed": false,
    "pycharm": {
     "name": "#%%\n"
    }
   }
  },
  {
   "cell_type": "code",
   "execution_count": 2,
   "outputs": [],
   "source": [
    "class HDTConnector(AbstractConnector):\n",
    "    def query(self, q_str):\n",
    "        global store\n",
    "        try:\n",
    "            noi = URIRef(q_str.split('\"')[1])\n",
    "            res = store.hdt_document.search((noi, None, None))[0]\n",
    "            val = [{\"p\": {\"value\": r[1].toPython()}, \"o\": {\"value\": r[2].n3().split('\"')[1]}, \"dt\": \"Object\"} if isinstance(r[2],\n",
    "                                                                                                            Literal) else {\n",
    "                \"p\": {\"value\": r[1].toPython()}, \"o\": {\"value\": r[2].toPython()}} for r in res]\n",
    "            return val\n",
    "        except Exception as e:\n",
    "            return []\n",
    "\n",
    "    def get_all_events(self):\n",
    "        global store\n",
    "        res = store.hdt_document.search((None, URIRef(\"https://saref.etsi.org/core/hasActivity\"), None))[0]\n",
    "        entities = set()\n",
    "        for r in tqdm(res):\n",
    "            entities.add(r[0].toPython())\n",
    "        return entities\n",
    "\n",
    "    def get_all_train_activities(self):\n",
    "        global store\n",
    "        res = store.hdt_document.search((None, URIRef(\"https://saref.etsi.org/core/hasActivity\"), None))[0]\n",
    "        entities = set()\n",
    "        rm_lst = set()\n",
    "        for r in tqdm(res):\n",
    "            if len(r[2].toPython())>1:\n",
    "                if r[2].toPython()!=\"test_data\":\n",
    "                    entities.add((r[0].toPython(), r[2].toPython()))\n",
    "                else:\n",
    "                    rm_lst.add(r[0].toPython())\n",
    "\n",
    "        return set([e for e in entities if e[0] not in rm_lst])\n",
    "\n",
    "    def get_events_of_group(self, group):\n",
    "        global store\n",
    "        res = store.hdt_document.search((None, URIRef(\"https://example.com/partOfGroup\"), Literal(group)))[0]\n",
    "        entities = set()\n",
    "        for r in tqdm(res):\n",
    "            entities.add(r[0].toPython())\n",
    "        return entities\n",
    "\n",
    "\n",
    "\n",
    "    def get_all_test_activities(self):\n",
    "        global store\n",
    "        res = store.hdt_document.search((None, URIRef(\"https://saref.etsi.org/core/hasActivity\"), None))[0]\n",
    "        entities = set()\n",
    "        add_lst = set()\n",
    "        for r in tqdm(res):\n",
    "            if len(r[2].toPython())>1:\n",
    "                if r[2].toPython()==\"test_data\":\n",
    "                    add_lst.add(r[0].toPython())\n",
    "\n",
    "        res = store.hdt_document.search((None, URIRef(\"https://saref.etsi.org/core/hasActivity\"), None))[0]\n",
    "        for r in res:\n",
    "            if len(r[2].toPython())>1:\n",
    "                if r[2].toPython()!=\"test_data\" and r[0].toPython() in add_lst:\n",
    "                    entities.add((r[0].toPython(),r[2].toPython()))\n",
    "\n",
    "        return entities\n",
    "\n",
    "    def get_all_begin_activities(self):\n",
    "        global store\n",
    "        res = store.hdt_document.search((None, URIRef(\"http://example.org/isBeginEvent\"), None))[0]\n",
    "        entities = set()\n",
    "        for d in res:\n",
    "            res2 = store.hdt_document.search((d[0], URIRef(\"https://saref.etsi.org/core/hasActivity\"), None))[0]\n",
    "\n",
    "            for r in tqdm(res2):\n",
    "                if len(r[2].toPython())>1:\n",
    "                    entities.add((d[0].toPython(), r[2].toPython()))\n",
    "        return entities\n",
    "\n",
    "    def get_all_events_of_type(self, a):\n",
    "        global store\n",
    "        res = store.hdt_document.search((None, URIRef(\"https://saref.etsi.org/core/hasActivity\"), Literal(a)))[0]\n",
    "        entities = set()\n",
    "        for r in tqdm(res):\n",
    "            entities.add(r[0].toPython())\n",
    "        return entities\n",
    "\n",
    "    def get_event_time(self, event):\n",
    "        global store\n",
    "        res = store.hdt_document.search((URIRef(event), URIRef(\"https://saref.etsi.org/core/hasTimestamp\"), None))[0]\n",
    "        return str(list(res)[0][2].toPython())\n",
    "\n",
    "    def get_info(self, event):\n",
    "        global store\n",
    "        res = store.hdt_document.search((URIRef(event), None, None))[0]\n",
    "        return str(list(res))"
   ],
   "metadata": {
    "collapsed": false,
    "pycharm": {
     "name": "#%%\n"
    }
   }
  },
  {
   "cell_type": "code",
   "execution_count": 2,
   "outputs": [],
   "source": [],
   "metadata": {
    "collapsed": false,
    "pycharm": {
     "name": "#%%\n"
    }
   }
  },
  {
   "cell_type": "code",
   "execution_count": 4,
   "outputs": [
    {
     "name": "stderr",
     "output_type": "stream",
     "text": [
      "2203it [00:00, 37009.06it/s]\n",
      "2203it [00:00, 44178.43it/s]"
     ]
    },
    {
     "name": "stdout",
     "output_type": "stream",
     "text": [
      "535\n",
      "1133\n"
     ]
    },
    {
     "name": "stderr",
     "output_type": "stream",
     "text": [
      "\n"
     ]
    }
   ],
   "source": [
    "df = pd.read_pickle('event_ucaml_depth11_for_ml.pkl')\n",
    "file = \"event_ucaml.hdt\"\n",
    "store = HDTStore(file)\n",
    "connector = HDTConnector()\n",
    "\n",
    "train_events = [x for x in connector.get_all_train_activities()]\n",
    "test_events = [x for x in connector.get_all_test_activities()]\n",
    "print(len(test_events))\n",
    "print(len(train_events))"
   ],
   "metadata": {
    "collapsed": false,
    "pycharm": {
     "name": "#%%\n"
    }
   }
  },
  {
   "cell_type": "code",
   "execution_count": 5,
   "outputs": [
    {
     "name": "stdout",
     "output_type": "stream",
     "text": [
      "25\n"
     ]
    }
   ],
   "source": [
    "mapping = {'Act01':'Take medication', 'Act02':'Prepare Breakfast','Act03':'Prepare lunch',\n",
    "            'Act04': 'Prepare dinner', 'Act05': 'Breakfast', 'Act06':'Lunch', 'Act07':'Dinner',\n",
    "           'Act08':'Eat a snack','Act09':'Watch TV','Act10':'Enter the Smartlab','Act11':'Play videogame',\n",
    "           'Act12':'Relax on sofa','Act13':'Leave Smartlab','Act14': 'Visit in the Smartlab','Act15':'Put waste in the bin',\n",
    "            'Act16':'Wash hands','Act17':'Brush teeth','Act18':'Use the toilet','Act19':'Wash dishes',\n",
    "            'Act20': 'Washing machine', 'Act21':'Work at the table','Act22':'Dressing', 'Act23':'Go to bed',\n",
    "           'Act24':'Wake up', 'Idle':'Idle' }\n",
    "print(len(mapping))"
   ],
   "metadata": {
    "collapsed": false,
    "pycharm": {
     "name": "#%%\n"
    }
   }
  },
  {
   "cell_type": "code",
   "execution_count": 13,
   "outputs": [
    {
     "name": "stderr",
     "output_type": "stream",
     "text": [
      "/Library/Frameworks/Python.framework/Versions/3.8/lib/python3.8/site-packages/pandas/core/indexing.py:1667: PerformanceWarning: DataFrame is highly fragmented.  This is usually the result of calling `frame.insert` many times, which has poor performance.  Consider joining all columns at once using pd.concat(axis=1) instead.  To get a de-fragmented frame, use `newframe = frame.copy()`\n",
      "  self.obj[key] = value\n",
      "<ipython-input-13-32e9d473b885>:30: PerformanceWarning: DataFrame is highly fragmented.  This is usually the result of calling `frame.insert` many times, which has poor performance.  Consider joining all columns at once using pd.concat(axis=1) instead.  To get a de-fragmented frame, use `newframe = frame.copy()`\n",
      "  X['time'] = pd.to_datetime(times)\n",
      "<ipython-input-13-32e9d473b885>:38: PerformanceWarning: DataFrame is highly fragmented.  This is usually the result of calling `frame.insert` many times, which has poor performance.  Consider joining all columns at once using pd.concat(axis=1) instead.  To get a de-fragmented frame, use `newframe = frame.copy()`\n",
      "  X_test['time'] = pd.to_datetime(times)\n",
      "/Library/Frameworks/Python.framework/Versions/3.8/lib/python3.8/site-packages/sklearn/utils/validation.py:572: UserWarning: pandas.DataFrame with sparse columns found.It will be converted to a dense numpy array.\n",
      "  warnings.warn(\n",
      "/Library/Frameworks/Python.framework/Versions/3.8/lib/python3.8/site-packages/sklearn/utils/validation.py:572: UserWarning: pandas.DataFrame with sparse columns found.It will be converted to a dense numpy array.\n",
      "  warnings.warn(\n"
     ]
    },
    {
     "name": "stdout",
     "output_type": "stream",
     "text": [
      "Accuracy: 76.07%\n",
      "[[0.83333333 0.         0.08333333 0.         0.         0.08333333\n",
      "  0.         0.         0.         0.         0.         0.\n",
      "  0.         0.         0.         0.         0.         0.\n",
      "  0.         0.         0.         0.         0.        ]\n",
      " [0.         0.92307692 0.         0.         0.         0.\n",
      "  0.         0.         0.         0.         0.         0.\n",
      "  0.         0.         0.07692308 0.         0.         0.\n",
      "  0.         0.         0.         0.         0.        ]\n",
      " [0.         0.         0.97619048 0.02380952 0.         0.\n",
      "  0.         0.         0.         0.         0.         0.\n",
      "  0.         0.         0.         0.         0.         0.\n",
      "  0.         0.         0.         0.         0.        ]\n",
      " [0.         0.         0.         1.         0.         0.\n",
      "  0.         0.         0.         0.         0.         0.\n",
      "  0.         0.         0.         0.         0.         0.\n",
      "  0.         0.         0.         0.         0.        ]\n",
      " [0.         0.08823529 0.         0.         0.88235294 0.\n",
      "  0.         0.         0.         0.         0.         0.\n",
      "  0.         0.         0.         0.         0.02941176 0.\n",
      "  0.         0.         0.         0.         0.        ]\n",
      " [0.         0.         0.         0.         0.         1.\n",
      "  0.         0.         0.         0.         0.         0.\n",
      "  0.         0.         0.         0.         0.         0.\n",
      "  0.         0.         0.         0.         0.        ]\n",
      " [0.         0.         0.         0.05       0.         0.\n",
      "  0.95       0.         0.         0.         0.         0.\n",
      "  0.         0.         0.         0.         0.         0.\n",
      "  0.         0.         0.         0.         0.        ]\n",
      " [0.         0.         0.         0.         0.         0.\n",
      "  0.         0.82352941 0.         0.05882353 0.         0.\n",
      "  0.         0.         0.         0.05882353 0.         0.\n",
      "  0.         0.05882353 0.         0.         0.        ]\n",
      " [0.         0.         0.         0.         0.         0.\n",
      "  0.         0.         0.83333333 0.         0.         0.\n",
      "  0.         0.         0.         0.         0.         0.\n",
      "  0.         0.         0.         0.16666667 0.        ]\n",
      " [0.         0.         0.         0.         0.         0.\n",
      "  0.         0.33333333 0.         0.6        0.         0.\n",
      "  0.         0.         0.         0.         0.         0.\n",
      "  0.         0.06666667 0.         0.         0.        ]\n",
      " [0.15384615 0.         0.         0.         0.         0.00961538\n",
      "  0.18269231 0.11538462 0.         0.03846154 0.41346154 0.\n",
      "  0.         0.01923077 0.         0.03846154 0.01923077 0.\n",
      "  0.         0.00961538 0.         0.         0.        ]\n",
      " [0.         0.         0.         0.         0.         0.\n",
      "  0.         0.         0.         0.         0.         0.92307692\n",
      "  0.         0.         0.         0.         0.         0.\n",
      "  0.         0.         0.         0.         0.07692308]\n",
      " [0.         0.         0.         0.         0.         0.\n",
      "  0.         0.         0.         0.         0.         0.\n",
      "  0.         0.         0.         0.         0.         0.\n",
      "  1.         0.         0.         0.         0.        ]\n",
      " [0.         0.         0.         0.         0.         0.\n",
      "  0.16666667 0.         0.         0.         0.         0.\n",
      "  0.         0.75       0.         0.08333333 0.         0.\n",
      "  0.         0.         0.         0.         0.        ]\n",
      " [0.         0.         0.         0.         0.         0.\n",
      "  0.         0.         0.         0.         0.         0.\n",
      "  0.         0.         1.         0.         0.         0.\n",
      "  0.         0.         0.         0.         0.        ]\n",
      " [0.         0.         0.         0.         0.         0.\n",
      "  0.         0.         0.         0.         0.         0.\n",
      "  0.         0.03846154 0.         0.88461538 0.         0.\n",
      "  0.         0.         0.         0.07692308 0.        ]\n",
      " [0.         0.         0.         0.         0.         0.\n",
      "  0.         0.         0.         0.         0.         0.\n",
      "  0.         0.         0.         0.33333333 0.16666667 0.\n",
      "  0.         0.         0.33333333 0.         0.16666667]\n",
      " [0.44444444 0.         0.44444444 0.         0.         0.\n",
      "  0.         0.         0.         0.         0.         0.\n",
      "  0.         0.         0.         0.         0.         0.\n",
      "  0.         0.         0.         0.         0.11111111]\n",
      " [0.         0.         0.         0.         0.         0.\n",
      "  0.         0.         0.         0.         0.         0.\n",
      "  0.         0.         0.         0.         0.         0.\n",
      "  1.         0.         0.         0.         0.        ]\n",
      " [0.         0.         0.         0.         0.         0.\n",
      "  0.         0.         0.03448276 0.         0.         0.\n",
      "  0.         0.         0.         0.03448276 0.         0.\n",
      "  0.06896552 0.82758621 0.         0.         0.03448276]\n",
      " [0.         0.         0.         0.         0.         0.\n",
      "  0.07142857 0.         0.         0.         0.         0.\n",
      "  0.         0.         0.         0.         0.14285714 0.\n",
      "  0.         0.         0.78571429 0.         0.        ]\n",
      " [0.         0.         0.         0.         0.         0.\n",
      "  0.         0.         0.         0.         0.         0.\n",
      "  0.         0.         0.         0.         0.11111111 0.\n",
      "  0.         0.         0.         0.83333333 0.05555556]\n",
      " [0.         0.         0.         0.14814815 0.         0.03703704\n",
      "  0.         0.         0.         0.         0.07407407 0.\n",
      "  0.         0.         0.         0.18518519 0.         0.\n",
      "  0.03703704 0.         0.         0.         0.51851852]]\n",
      "                       Play videogame  Wash hands   Wake up  Prepare dinner  \\\n",
      "Play videogame               0.833333    0.000000  0.083333        0.000000   \n",
      "Wash hands                   0.000000    0.923077  0.000000        0.000000   \n",
      "Wake up                      0.000000    0.000000  0.976190        0.023810   \n",
      "Prepare dinner               0.000000    0.000000  0.000000        1.000000   \n",
      "Put waste in the bin         0.000000    0.088235  0.000000        0.000000   \n",
      "Go to bed                    0.000000    0.000000  0.000000        0.000000   \n",
      "Dressing                     0.000000    0.000000  0.000000        0.050000   \n",
      "Dinner                       0.000000    0.000000  0.000000        0.000000   \n",
      "Breakfast                    0.000000    0.000000  0.000000        0.000000   \n",
      "Lunch                        0.000000    0.000000  0.000000        0.000000   \n",
      "Watch TV                     0.153846    0.000000  0.000000        0.000000   \n",
      "Prepare lunch                0.000000    0.000000  0.000000        0.000000   \n",
      "Relax on sofa                0.000000    0.000000  0.000000        0.000000   \n",
      "Work at the table            0.000000    0.000000  0.000000        0.000000   \n",
      "Visit in the Smartlab        0.000000    0.000000  0.000000        0.000000   \n",
      "Take medication              0.000000    0.000000  0.000000        0.000000   \n",
      "Brush teeth                  0.000000    0.000000  0.000000        0.000000   \n",
      "Prepare Breakfast            0.444444    0.000000  0.444444        0.000000   \n",
      "Use the toilet               0.000000    0.000000  0.000000        0.000000   \n",
      "Enter the Smartlab           0.000000    0.000000  0.000000        0.000000   \n",
      "Idle                         0.000000    0.000000  0.000000        0.000000   \n",
      "Wash dishes                  0.000000    0.000000  0.000000        0.000000   \n",
      "Leave Smartlab               0.000000    0.000000  0.000000        0.148148   \n",
      "\n",
      "                       Put waste in the bin  Go to bed  Dressing    Dinner  \\\n",
      "Play videogame                     0.000000   0.083333  0.000000  0.000000   \n",
      "Wash hands                         0.000000   0.000000  0.000000  0.000000   \n",
      "Wake up                            0.000000   0.000000  0.000000  0.000000   \n",
      "Prepare dinner                     0.000000   0.000000  0.000000  0.000000   \n",
      "Put waste in the bin               0.882353   0.000000  0.000000  0.000000   \n",
      "Go to bed                          0.000000   1.000000  0.000000  0.000000   \n",
      "Dressing                           0.000000   0.000000  0.950000  0.000000   \n",
      "Dinner                             0.000000   0.000000  0.000000  0.823529   \n",
      "Breakfast                          0.000000   0.000000  0.000000  0.000000   \n",
      "Lunch                              0.000000   0.000000  0.000000  0.333333   \n",
      "Watch TV                           0.000000   0.009615  0.182692  0.115385   \n",
      "Prepare lunch                      0.000000   0.000000  0.000000  0.000000   \n",
      "Relax on sofa                      0.000000   0.000000  0.000000  0.000000   \n",
      "Work at the table                  0.000000   0.000000  0.166667  0.000000   \n",
      "Visit in the Smartlab              0.000000   0.000000  0.000000  0.000000   \n",
      "Take medication                    0.000000   0.000000  0.000000  0.000000   \n",
      "Brush teeth                        0.000000   0.000000  0.000000  0.000000   \n",
      "Prepare Breakfast                  0.000000   0.000000  0.000000  0.000000   \n",
      "Use the toilet                     0.000000   0.000000  0.000000  0.000000   \n",
      "Enter the Smartlab                 0.000000   0.000000  0.000000  0.000000   \n",
      "Idle                               0.000000   0.000000  0.071429  0.000000   \n",
      "Wash dishes                        0.000000   0.000000  0.000000  0.000000   \n",
      "Leave Smartlab                     0.000000   0.037037  0.000000  0.000000   \n",
      "\n",
      "                       Breakfast     Lunch  ...  Work at the table  \\\n",
      "Play videogame          0.000000  0.000000  ...           0.000000   \n",
      "Wash hands              0.000000  0.000000  ...           0.000000   \n",
      "Wake up                 0.000000  0.000000  ...           0.000000   \n",
      "Prepare dinner          0.000000  0.000000  ...           0.000000   \n",
      "Put waste in the bin    0.000000  0.000000  ...           0.000000   \n",
      "Go to bed               0.000000  0.000000  ...           0.000000   \n",
      "Dressing                0.000000  0.000000  ...           0.000000   \n",
      "Dinner                  0.000000  0.058824  ...           0.000000   \n",
      "Breakfast               0.833333  0.000000  ...           0.000000   \n",
      "Lunch                   0.000000  0.600000  ...           0.000000   \n",
      "Watch TV                0.000000  0.038462  ...           0.019231   \n",
      "Prepare lunch           0.000000  0.000000  ...           0.000000   \n",
      "Relax on sofa           0.000000  0.000000  ...           0.000000   \n",
      "Work at the table       0.000000  0.000000  ...           0.750000   \n",
      "Visit in the Smartlab   0.000000  0.000000  ...           0.000000   \n",
      "Take medication         0.000000  0.000000  ...           0.038462   \n",
      "Brush teeth             0.000000  0.000000  ...           0.000000   \n",
      "Prepare Breakfast       0.000000  0.000000  ...           0.000000   \n",
      "Use the toilet          0.000000  0.000000  ...           0.000000   \n",
      "Enter the Smartlab      0.034483  0.000000  ...           0.000000   \n",
      "Idle                    0.000000  0.000000  ...           0.000000   \n",
      "Wash dishes             0.000000  0.000000  ...           0.000000   \n",
      "Leave Smartlab          0.000000  0.000000  ...           0.000000   \n",
      "\n",
      "                       Visit in the Smartlab  Take medication  Brush teeth  \\\n",
      "Play videogame                      0.000000         0.000000     0.000000   \n",
      "Wash hands                          0.076923         0.000000     0.000000   \n",
      "Wake up                             0.000000         0.000000     0.000000   \n",
      "Prepare dinner                      0.000000         0.000000     0.000000   \n",
      "Put waste in the bin                0.000000         0.000000     0.029412   \n",
      "Go to bed                           0.000000         0.000000     0.000000   \n",
      "Dressing                            0.000000         0.000000     0.000000   \n",
      "Dinner                              0.000000         0.058824     0.000000   \n",
      "Breakfast                           0.000000         0.000000     0.000000   \n",
      "Lunch                               0.000000         0.000000     0.000000   \n",
      "Watch TV                            0.000000         0.038462     0.019231   \n",
      "Prepare lunch                       0.000000         0.000000     0.000000   \n",
      "Relax on sofa                       0.000000         0.000000     0.000000   \n",
      "Work at the table                   0.000000         0.083333     0.000000   \n",
      "Visit in the Smartlab               1.000000         0.000000     0.000000   \n",
      "Take medication                     0.000000         0.884615     0.000000   \n",
      "Brush teeth                         0.000000         0.333333     0.166667   \n",
      "Prepare Breakfast                   0.000000         0.000000     0.000000   \n",
      "Use the toilet                      0.000000         0.000000     0.000000   \n",
      "Enter the Smartlab                  0.000000         0.034483     0.000000   \n",
      "Idle                                0.000000         0.000000     0.142857   \n",
      "Wash dishes                         0.000000         0.000000     0.111111   \n",
      "Leave Smartlab                      0.000000         0.185185     0.000000   \n",
      "\n",
      "                       Prepare Breakfast  Use the toilet  Enter the Smartlab  \\\n",
      "Play videogame                       0.0        0.000000            0.000000   \n",
      "Wash hands                           0.0        0.000000            0.000000   \n",
      "Wake up                              0.0        0.000000            0.000000   \n",
      "Prepare dinner                       0.0        0.000000            0.000000   \n",
      "Put waste in the bin                 0.0        0.000000            0.000000   \n",
      "Go to bed                            0.0        0.000000            0.000000   \n",
      "Dressing                             0.0        0.000000            0.000000   \n",
      "Dinner                               0.0        0.000000            0.058824   \n",
      "Breakfast                            0.0        0.000000            0.000000   \n",
      "Lunch                                0.0        0.000000            0.066667   \n",
      "Watch TV                             0.0        0.000000            0.009615   \n",
      "Prepare lunch                        0.0        0.000000            0.000000   \n",
      "Relax on sofa                        0.0        1.000000            0.000000   \n",
      "Work at the table                    0.0        0.000000            0.000000   \n",
      "Visit in the Smartlab                0.0        0.000000            0.000000   \n",
      "Take medication                      0.0        0.000000            0.000000   \n",
      "Brush teeth                          0.0        0.000000            0.000000   \n",
      "Prepare Breakfast                    0.0        0.000000            0.000000   \n",
      "Use the toilet                       0.0        1.000000            0.000000   \n",
      "Enter the Smartlab                   0.0        0.068966            0.827586   \n",
      "Idle                                 0.0        0.000000            0.000000   \n",
      "Wash dishes                          0.0        0.000000            0.000000   \n",
      "Leave Smartlab                       0.0        0.037037            0.000000   \n",
      "\n",
      "                           Idle  Wash dishes  Leave Smartlab  \n",
      "Play videogame         0.000000     0.000000        0.000000  \n",
      "Wash hands             0.000000     0.000000        0.000000  \n",
      "Wake up                0.000000     0.000000        0.000000  \n",
      "Prepare dinner         0.000000     0.000000        0.000000  \n",
      "Put waste in the bin   0.000000     0.000000        0.000000  \n",
      "Go to bed              0.000000     0.000000        0.000000  \n",
      "Dressing               0.000000     0.000000        0.000000  \n",
      "Dinner                 0.000000     0.000000        0.000000  \n",
      "Breakfast              0.000000     0.166667        0.000000  \n",
      "Lunch                  0.000000     0.000000        0.000000  \n",
      "Watch TV               0.000000     0.000000        0.000000  \n",
      "Prepare lunch          0.000000     0.000000        0.076923  \n",
      "Relax on sofa          0.000000     0.000000        0.000000  \n",
      "Work at the table      0.000000     0.000000        0.000000  \n",
      "Visit in the Smartlab  0.000000     0.000000        0.000000  \n",
      "Take medication        0.000000     0.076923        0.000000  \n",
      "Brush teeth            0.333333     0.000000        0.166667  \n",
      "Prepare Breakfast      0.000000     0.000000        0.111111  \n",
      "Use the toilet         0.000000     0.000000        0.000000  \n",
      "Enter the Smartlab     0.000000     0.000000        0.034483  \n",
      "Idle                   0.785714     0.000000        0.000000  \n",
      "Wash dishes            0.000000     0.833333        0.055556  \n",
      "Leave Smartlab         0.000000     0.000000        0.518519  \n",
      "\n",
      "[23 rows x 23 columns]\n"
     ]
    }
   ],
   "source": [
    "from sklearn.ensemble import ExtraTreesClassifier\n",
    "\n",
    "label_df = pd.DataFrame(train_events).set_index(0)\n",
    "nodes = label_df.index\n",
    "labels = label_df.values\n",
    "\n",
    "data = df.loc[nodes,:]\n",
    "data.loc[:,'label'] = labels\n",
    "\n",
    "X = data.drop('label', axis=1).fillna(-100)\n",
    "y = data['label']\n",
    "\n",
    "#-------------------#\n",
    "label_df = pd.DataFrame(test_events).set_index(0)#.groupby(0)[1].apply(list)\n",
    "nodes = label_df.index\n",
    "labels = label_df.values\n",
    "\n",
    "#ndata = data.explode('label')\n",
    "data = df.loc[nodes,:]\n",
    "data.loc[:,'label'] = labels\n",
    "\n",
    "X_test = data.drop('label', axis=1).fillna(-100)\n",
    "y_test = data['label']\n",
    "\n",
    "times = []\n",
    "for index, row in X.iterrows():\n",
    "    user = index.split('/')[-2]\n",
    "    event = index.split('/')[-1].replace('event','')\n",
    "    times.append(connector.get_event_time(index))\n",
    "X['time'] = pd.to_datetime(times)\n",
    "X['time'] = X['time'].dt.hour * 60 + X['time'].dt.minute#+ X['time'].dt.second/60\n",
    "\n",
    "times = []\n",
    "for index, row in X_test.iterrows():\n",
    "    user = index.split('/')[-2]\n",
    "    event = index.split('/')[-1].replace('event','')\n",
    "    times.append(connector.get_event_time(index))\n",
    "X_test['time'] = pd.to_datetime(times)\n",
    "X_test['time'] = X_test['time'].dt.hour * 60 + X_test['time'].dt.minute# + X_test['time'].dt.second/60\n",
    "\n",
    "for clf in [ExtraTreesClassifier(n_estimators=1000, class_weight=\"balanced\")]:\n",
    "\n",
    "    clf.fit(X, y)\n",
    "    y_pred = [[x] for x in clf.predict(X_test)]\n",
    "\n",
    "    accuracy = accuracy_score(y_test, y_pred)\n",
    "    print(\"Accuracy: %.2f%%\" % (accuracy * 100.0))\n",
    "\n",
    "\n",
    "normal_conf_mat=confusion_matrix(y_test,y_pred)\n",
    "normal_conf_mat = normal_conf_mat.astype('float') / normal_conf_mat.sum(axis=1)[:, np.newaxis]\n",
    "print(normal_conf_mat)\n",
    "\n",
    "all_columns = set([x for x in y_test]+[x[0] for x in y_pred])\n",
    "\n",
    "#conf_mat,normal_conf_mat = mlcm.cm(y_test_multi.reindex(columns=all_columns).fillna(int(0)).values,y_pred_multi.reindex(columns=all_columns).fillna(int(0)).values)\n",
    "df_cm = pd.DataFrame(normal_conf_mat, index = [mapping[x] for x in list(all_columns)],columns=[mapping[x] for x in list(all_columns)])\n",
    "print(df_cm)\n",
    "fig, ax = plt.subplots(figsize=(17,11))\n",
    "sns.heatmap(df_cm, annot=True, fmt='.1f')\n",
    "plt.xticks(rotation=45)\n",
    "plt.savefig('learner_plot.png')"
   ],
   "metadata": {
    "collapsed": false,
    "pycharm": {
     "name": "#%%\n"
    }
   }
  },
  {
   "cell_type": "code",
   "execution_count": 14,
   "outputs": [
    {
     "name": "stderr",
     "output_type": "stream",
     "text": [
      "/Library/Frameworks/Python.framework/Versions/3.8/lib/python3.8/site-packages/sklearn/metrics/_classification.py:1854: UserWarning: y_pred contains classes not in y_true\n",
      "  warnings.warn('y_pred contains classes not in y_true')\n"
     ]
    },
    {
     "data": {
      "text/plain": "0.7525706918220366"
     },
     "execution_count": 14,
     "metadata": {},
     "output_type": "execute_result"
    }
   ],
   "source": [
    "from sklearn.metrics import balanced_accuracy_score\n",
    "balanced_accuracy_score(y_pred, y_test)"
   ],
   "metadata": {
    "collapsed": false,
    "pycharm": {
     "name": "#%%\n"
    }
   }
  },
  {
   "cell_type": "code",
   "execution_count": 15,
   "outputs": [
    {
     "data": {
      "text/plain": "0.7723859087919875"
     },
     "execution_count": 15,
     "metadata": {},
     "output_type": "execute_result"
    }
   ],
   "source": [
    "from sklearn.metrics import f1_score\n",
    "f1_score(y_pred, y_test, average='weighted')"
   ],
   "metadata": {
    "collapsed": false,
    "pycharm": {
     "name": "#%%\n"
    }
   }
  },
  {
   "cell_type": "code",
   "execution_count": 34,
   "outputs": [
    {
     "name": "stdout",
     "output_type": "stream",
     "text": [
      "                       precision    recall  f1-score   support\n",
      "\n",
      "       Play videogame       1.00      0.88      0.94        34\n",
      "           Wash hands       0.62      0.88      0.73        26\n",
      "              Wake up       0.63      0.95      0.76        40\n",
      "       Prepare dinner       0.89      0.83      0.86        29\n",
      " Put waste in the bin       0.91      0.83      0.87        12\n",
      "            Go to bed       0.85      0.79      0.81        14\n",
      "             Dressing       0.74      0.52      0.61        27\n",
      "               Dinner       1.00      0.92      0.96        13\n",
      "            Breakfast       0.89      1.00      0.94        25\n",
      "                Lunch       0.64      0.60      0.62        15\n",
      "             Watch TV       0.80      0.92      0.86        13\n",
      "        Prepare lunch       0.76      1.00      0.86        22\n",
      "        Relax on sofa       0.89      0.98      0.93        42\n",
      "    Work at the table       0.75      0.75      0.75        12\n",
      "Visit in the Smartlab       0.96      0.41      0.58       104\n",
      "      Take medication       0.33      0.83      0.48        12\n",
      "          Brush teeth       0.12      0.17      0.14         6\n",
      "    Prepare Breakfast       0.00      0.00      0.00         1\n",
      "       Use the toilet       0.79      0.83      0.81        18\n",
      "   Enter the Smartlab       0.00      0.00      0.00         9\n",
      "                 Idle       0.88      1.00      0.93         7\n",
      "          Wash dishes       0.45      0.82      0.58        17\n",
      "       Leave Smartlab       0.90      1.00      0.95        37\n",
      "\n",
      "             accuracy                           0.76       535\n",
      "            macro avg       0.69      0.74      0.69       535\n",
      "         weighted avg       0.80      0.76      0.75       535\n",
      "\n"
     ]
    },
    {
     "name": "stderr",
     "output_type": "stream",
     "text": [
      "/Library/Frameworks/Python.framework/Versions/3.8/lib/python3.8/site-packages/sklearn/metrics/_classification.py:1248: UndefinedMetricWarning: Precision and F-score are ill-defined and being set to 0.0 in labels with no predicted samples. Use `zero_division` parameter to control this behavior.\n",
      "  _warn_prf(average, modifier, msg_start, len(result))\n",
      "/Library/Frameworks/Python.framework/Versions/3.8/lib/python3.8/site-packages/sklearn/metrics/_classification.py:1248: UndefinedMetricWarning: Precision and F-score are ill-defined and being set to 0.0 in labels with no predicted samples. Use `zero_division` parameter to control this behavior.\n",
      "  _warn_prf(average, modifier, msg_start, len(result))\n",
      "/Library/Frameworks/Python.framework/Versions/3.8/lib/python3.8/site-packages/sklearn/metrics/_classification.py:1248: UndefinedMetricWarning: Precision and F-score are ill-defined and being set to 0.0 in labels with no predicted samples. Use `zero_division` parameter to control this behavior.\n",
      "  _warn_prf(average, modifier, msg_start, len(result))\n"
     ]
    }
   ],
   "source": [
    "print(classification_report(pd.DataFrame(y_test)['label'].apply(lambda x: mapping[x]), pd.DataFrame(y_pred)[0].apply(lambda x: mapping[x]), target_names=[mapping[x] for x in list(all_columns)] ))"
   ],
   "metadata": {
    "collapsed": false,
    "pycharm": {
     "name": "#%%\n"
    }
   }
  }
 ],
 "metadata": {
  "kernelspec": {
   "display_name": "Python 3",
   "language": "python",
   "name": "python3"
  },
  "language_info": {
   "codemirror_mode": {
    "name": "ipython",
    "version": 2
   },
   "file_extension": ".py",
   "mimetype": "text/x-python",
   "name": "python",
   "nbconvert_exporter": "python",
   "pygments_lexer": "ipython2",
   "version": "2.7.6"
  }
 },
 "nbformat": 4,
 "nbformat_minor": 0
}